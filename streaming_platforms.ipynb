{
 "cells": [
  {
   "cell_type": "markdown",
   "metadata": {},
   "source": [
    "# 1. Importing the Libraries"
   ]
  },
  {
   "cell_type": "code",
   "execution_count": 18,
   "metadata": {},
   "outputs": [],
   "source": [
    "# importing packages\n",
    "\n",
    "import numpy as np \n",
    "import pandas as pd \n",
    "import matplotlib.pyplot as plt \n",
    "import warnings \n",
    "warnings.filterwarnings('ignore')"
   ]
  },
  {
   "cell_type": "markdown",
   "metadata": {},
   "source": [
    "# 2. Data Extraction"
   ]
  },
  {
   "cell_type": "code",
   "execution_count": 101,
   "metadata": {},
   "outputs": [],
   "source": [
    "# loading the data \n",
    "\n",
    "amazon_df = pd.read_csv(\"amazon_prime_titles.csv\")\n",
    "disney_df = pd.read_csv(\"disney_plus_titles.csv\")\n",
    "netflix_df = pd.read_csv(\"netflix_titles.csv\")\n"
   ]
  },
  {
   "cell_type": "markdown",
   "metadata": {},
   "source": [
    "# 3. Exploratory Data Analysis\n",
    "\n",
    "## 3.1 Shape"
   ]
  },
  {
   "cell_type": "code",
   "execution_count": 20,
   "metadata": {},
   "outputs": [
    {
     "data": {
      "text/plain": [
       "(9668, 12)"
      ]
     },
     "execution_count": 20,
     "metadata": {},
     "output_type": "execute_result"
    }
   ],
   "source": [
    "amazon_df.shape"
   ]
  },
  {
   "cell_type": "code",
   "execution_count": 21,
   "metadata": {},
   "outputs": [
    {
     "data": {
      "text/plain": [
       "(1450, 12)"
      ]
     },
     "execution_count": 21,
     "metadata": {},
     "output_type": "execute_result"
    }
   ],
   "source": [
    "disney_df.shape"
   ]
  },
  {
   "cell_type": "code",
   "execution_count": 22,
   "metadata": {},
   "outputs": [
    {
     "data": {
      "text/plain": [
       "(8807, 12)"
      ]
     },
     "execution_count": 22,
     "metadata": {},
     "output_type": "execute_result"
    }
   ],
   "source": [
    "netflix_df.shape"
   ]
  },
  {
   "cell_type": "markdown",
   "metadata": {},
   "source": [
    "## 3.2 Data Types"
   ]
  },
  {
   "cell_type": "code",
   "execution_count": 23,
   "metadata": {},
   "outputs": [
    {
     "name": "stdout",
     "output_type": "stream",
     "text": [
      "<class 'pandas.core.frame.DataFrame'>\n",
      "RangeIndex: 9668 entries, 0 to 9667\n",
      "Data columns (total 12 columns):\n",
      " #   Column        Non-Null Count  Dtype \n",
      "---  ------        --------------  ----- \n",
      " 0   show_id       9668 non-null   object\n",
      " 1   type          9668 non-null   object\n",
      " 2   title         9668 non-null   object\n",
      " 3   director      7585 non-null   object\n",
      " 4   cast          8435 non-null   object\n",
      " 5   country       672 non-null    object\n",
      " 6   date_added    155 non-null    object\n",
      " 7   release_year  9668 non-null   int64 \n",
      " 8   rating        9331 non-null   object\n",
      " 9   duration      9668 non-null   object\n",
      " 10  listed_in     9668 non-null   object\n",
      " 11  description   9668 non-null   object\n",
      "dtypes: int64(1), object(11)\n",
      "memory usage: 906.5+ KB\n"
     ]
    }
   ],
   "source": [
    "amazon_df.info()"
   ]
  },
  {
   "cell_type": "code",
   "execution_count": 24,
   "metadata": {},
   "outputs": [
    {
     "name": "stdout",
     "output_type": "stream",
     "text": [
      "<class 'pandas.core.frame.DataFrame'>\n",
      "RangeIndex: 1450 entries, 0 to 1449\n",
      "Data columns (total 12 columns):\n",
      " #   Column        Non-Null Count  Dtype \n",
      "---  ------        --------------  ----- \n",
      " 0   show_id       1450 non-null   object\n",
      " 1   type          1450 non-null   object\n",
      " 2   title         1450 non-null   object\n",
      " 3   director      977 non-null    object\n",
      " 4   cast          1260 non-null   object\n",
      " 5   country       1231 non-null   object\n",
      " 6   date_added    1447 non-null   object\n",
      " 7   release_year  1450 non-null   int64 \n",
      " 8   rating        1447 non-null   object\n",
      " 9   duration      1450 non-null   object\n",
      " 10  listed_in     1450 non-null   object\n",
      " 11  description   1450 non-null   object\n",
      "dtypes: int64(1), object(11)\n",
      "memory usage: 136.1+ KB\n"
     ]
    }
   ],
   "source": [
    "disney_df.info()"
   ]
  },
  {
   "cell_type": "code",
   "execution_count": 25,
   "metadata": {},
   "outputs": [
    {
     "name": "stdout",
     "output_type": "stream",
     "text": [
      "<class 'pandas.core.frame.DataFrame'>\n",
      "RangeIndex: 8807 entries, 0 to 8806\n",
      "Data columns (total 12 columns):\n",
      " #   Column        Non-Null Count  Dtype \n",
      "---  ------        --------------  ----- \n",
      " 0   show_id       8807 non-null   object\n",
      " 1   type          8807 non-null   object\n",
      " 2   title         8807 non-null   object\n",
      " 3   director      6173 non-null   object\n",
      " 4   cast          7982 non-null   object\n",
      " 5   country       7976 non-null   object\n",
      " 6   date_added    8797 non-null   object\n",
      " 7   release_year  8807 non-null   int64 \n",
      " 8   rating        8803 non-null   object\n",
      " 9   duration      8804 non-null   object\n",
      " 10  listed_in     8807 non-null   object\n",
      " 11  description   8807 non-null   object\n",
      "dtypes: int64(1), object(11)\n",
      "memory usage: 825.8+ KB\n"
     ]
    }
   ],
   "source": [
    "netflix_df.info()"
   ]
  },
  {
   "cell_type": "markdown",
   "metadata": {},
   "source": [
    "## 3.3 Checking missing values"
   ]
  },
  {
   "cell_type": "code",
   "execution_count": 26,
   "metadata": {},
   "outputs": [
    {
     "data": {
      "text/plain": [
       "show_id            0\n",
       "type               0\n",
       "title              0\n",
       "director        2083\n",
       "cast            1233\n",
       "country         8996\n",
       "date_added      9513\n",
       "release_year       0\n",
       "rating           337\n",
       "duration           0\n",
       "listed_in          0\n",
       "description        0\n",
       "dtype: int64"
      ]
     },
     "execution_count": 26,
     "metadata": {},
     "output_type": "execute_result"
    }
   ],
   "source": [
    "amazon_df.isnull().sum()"
   ]
  },
  {
   "cell_type": "code",
   "execution_count": 27,
   "metadata": {},
   "outputs": [
    {
     "data": {
      "text/plain": [
       "show_id           0\n",
       "type              0\n",
       "title             0\n",
       "director        473\n",
       "cast            190\n",
       "country         219\n",
       "date_added        3\n",
       "release_year      0\n",
       "rating            3\n",
       "duration          0\n",
       "listed_in         0\n",
       "description       0\n",
       "dtype: int64"
      ]
     },
     "execution_count": 27,
     "metadata": {},
     "output_type": "execute_result"
    }
   ],
   "source": [
    "disney_df.isnull().sum()"
   ]
  },
  {
   "cell_type": "code",
   "execution_count": 28,
   "metadata": {},
   "outputs": [
    {
     "data": {
      "text/plain": [
       "show_id            0\n",
       "type               0\n",
       "title              0\n",
       "director        2634\n",
       "cast             825\n",
       "country          831\n",
       "date_added        10\n",
       "release_year       0\n",
       "rating             4\n",
       "duration           3\n",
       "listed_in          0\n",
       "description        0\n",
       "dtype: int64"
      ]
     },
     "execution_count": 28,
     "metadata": {},
     "output_type": "execute_result"
    }
   ],
   "source": [
    "netflix_df.isnull().sum()"
   ]
  },
  {
   "cell_type": "markdown",
   "metadata": {},
   "source": [
    "## 3.4 Checking duplicate values"
   ]
  },
  {
   "cell_type": "code",
   "execution_count": 74,
   "metadata": {},
   "outputs": [
    {
     "data": {
      "text/plain": [
       "0"
      ]
     },
     "execution_count": 74,
     "metadata": {},
     "output_type": "execute_result"
    }
   ],
   "source": [
    "amazon_df.duplicated().sum()"
   ]
  },
  {
   "cell_type": "code",
   "execution_count": 75,
   "metadata": {},
   "outputs": [
    {
     "data": {
      "text/plain": [
       "0"
      ]
     },
     "execution_count": 75,
     "metadata": {},
     "output_type": "execute_result"
    }
   ],
   "source": [
    "disney_df.duplicated().sum()"
   ]
  },
  {
   "cell_type": "code",
   "execution_count": 76,
   "metadata": {},
   "outputs": [
    {
     "data": {
      "text/plain": [
       "0"
      ]
     },
     "execution_count": 76,
     "metadata": {},
     "output_type": "execute_result"
    }
   ],
   "source": [
    "netflix_df.duplicated().sum()"
   ]
  },
  {
   "cell_type": "markdown",
   "metadata": {},
   "source": [
    "# 4. Data Transformation\n",
    "\n",
    "## 4.1 Data Cleaning\n",
    "\n",
    "### 4.1.1 Amazon\n",
    "\n",
    "Country and date_added columns have more than 80% of the missing values and hence dropping them."
   ]
  },
  {
   "cell_type": "code",
   "execution_count": 102,
   "metadata": {},
   "outputs": [],
   "source": [
    "# Dropping columns \n",
    "\n",
    "amazon_df = amazon_df.drop(['country', 'date_added'], axis=1)\n",
    "\n",
    "# Removing rows with null values in 'rating' column\n",
    "\n",
    "amazon_df.dropna(subset=['rating'], inplace=True)\n",
    "\n",
    "# Dropping irrelevant columns for analysis\n",
    "\n",
    "amazon_df = amazon_df.drop(['show_id','director','cast'], axis=1)"
   ]
  },
  {
   "cell_type": "markdown",
   "metadata": {},
   "source": [
    "### 4.1.2 Disney_Plus"
   ]
  },
  {
   "cell_type": "code",
   "execution_count": 103,
   "metadata": {},
   "outputs": [],
   "source": [
    "# Dropping columns \n",
    "\n",
    "disney_df = disney_df.drop(['country', 'date_added'], axis=1)\n",
    "\n",
    "# Removing rows with null values in 'rating' column\n",
    "\n",
    "disney_df.dropna(subset=['rating'], inplace=True)\n",
    "\n",
    "# Dropping irrelevant columns for analysis\n",
    "\n",
    "disney_df = disney_df.drop(['show_id','director','cast'], axis=1)"
   ]
  },
  {
   "cell_type": "markdown",
   "metadata": {},
   "source": [
    "### 4.1.3 Netflix"
   ]
  },
  {
   "cell_type": "code",
   "execution_count": 104,
   "metadata": {},
   "outputs": [],
   "source": [
    "# Dropping columns \n",
    "\n",
    "netflix_df = netflix_df.drop(['country', 'date_added'], axis=1)\n",
    "\n",
    "# Removing rows with null values in 'rating' column\n",
    "\n",
    "netflix_df.dropna(subset=['rating', 'duration'], inplace=True)\n",
    "\n",
    "# Dropping irrelevant columns for analysis\n",
    "\n",
    "netflix_df = netflix_df.drop(['show_id','director','cast'], axis=1)"
   ]
  },
  {
   "cell_type": "markdown",
   "metadata": {},
   "source": [
    "## 4.2 Adding new columns"
   ]
  },
  {
   "cell_type": "code",
   "execution_count": 105,
   "metadata": {},
   "outputs": [],
   "source": [
    "amazon_df['platform'] = 'Amazon Prime'\n",
    "amazon_df['headquarters'] = 'Seattle, Washington'\n",
    "amazon_df['date_founded'] = '02/02/2005'\n",
    "\n",
    "disney_df['platform'] = 'Disney Plus'\n",
    "disney_df['headquarters'] = 'Los Angeles, California'\n",
    "disney_df['date_founded'] = '11/12/2019'\n",
    "\n",
    "netflix_df['platform'] = 'Netflix'\n",
    "netflix_df['headquarters'] = 'Los Gatos, California'\n",
    "netflix_df['date_founded'] = '08/29/1997'"
   ]
  },
  {
   "cell_type": "markdown",
   "metadata": {},
   "source": [
    "## 4.3 Merging the data frames\n",
    "\n",
    "Merging all the three data frames to a single dataframe for analysis."
   ]
  },
  {
   "cell_type": "code",
   "execution_count": 106,
   "metadata": {},
   "outputs": [
    {
     "data": {
      "text/html": [
       "<div>\n",
       "<style scoped>\n",
       "    .dataframe tbody tr th:only-of-type {\n",
       "        vertical-align: middle;\n",
       "    }\n",
       "\n",
       "    .dataframe tbody tr th {\n",
       "        vertical-align: top;\n",
       "    }\n",
       "\n",
       "    .dataframe thead th {\n",
       "        text-align: right;\n",
       "    }\n",
       "</style>\n",
       "<table border=\"1\" class=\"dataframe\">\n",
       "  <thead>\n",
       "    <tr style=\"text-align: right;\">\n",
       "      <th></th>\n",
       "      <th>type</th>\n",
       "      <th>title</th>\n",
       "      <th>release_year</th>\n",
       "      <th>rating</th>\n",
       "      <th>duration</th>\n",
       "      <th>listed_in</th>\n",
       "      <th>description</th>\n",
       "      <th>platform</th>\n",
       "      <th>headquarters</th>\n",
       "      <th>date_founded</th>\n",
       "    </tr>\n",
       "  </thead>\n",
       "  <tbody>\n",
       "    <tr>\n",
       "      <th>0</th>\n",
       "      <td>Movie</td>\n",
       "      <td>Take Care Good Night</td>\n",
       "      <td>2018</td>\n",
       "      <td>13+</td>\n",
       "      <td>110 min</td>\n",
       "      <td>Drama, International</td>\n",
       "      <td>A Metro Family decides to fight a Cyber Crimin...</td>\n",
       "      <td>Amazon Prime</td>\n",
       "      <td>Seattle, Washington</td>\n",
       "      <td>02/02/2005</td>\n",
       "    </tr>\n",
       "    <tr>\n",
       "      <th>1</th>\n",
       "      <td>Movie</td>\n",
       "      <td>Zoombies</td>\n",
       "      <td>2016</td>\n",
       "      <td>13+</td>\n",
       "      <td>87 min</td>\n",
       "      <td>Horror, Science Fiction</td>\n",
       "      <td>When a strange virus quickly spreads through a...</td>\n",
       "      <td>Amazon Prime</td>\n",
       "      <td>Seattle, Washington</td>\n",
       "      <td>02/02/2005</td>\n",
       "    </tr>\n",
       "    <tr>\n",
       "      <th>2</th>\n",
       "      <td>TV Show</td>\n",
       "      <td>Zoo Babies</td>\n",
       "      <td>2008</td>\n",
       "      <td>ALL</td>\n",
       "      <td>1 Season</td>\n",
       "      <td>Kids, Special Interest</td>\n",
       "      <td>A heart warming and inspiring series that welc...</td>\n",
       "      <td>Amazon Prime</td>\n",
       "      <td>Seattle, Washington</td>\n",
       "      <td>02/02/2005</td>\n",
       "    </tr>\n",
       "    <tr>\n",
       "      <th>3</th>\n",
       "      <td>TV Show</td>\n",
       "      <td>Zoë Coombs Marr: Bossy Bottom</td>\n",
       "      <td>2020</td>\n",
       "      <td>18+</td>\n",
       "      <td>1 Season</td>\n",
       "      <td>Comedy, Talk Show and Variety</td>\n",
       "      <td>Zoë Coombs Marr has been on hiatus. Sort of. F...</td>\n",
       "      <td>Amazon Prime</td>\n",
       "      <td>Seattle, Washington</td>\n",
       "      <td>02/02/2005</td>\n",
       "    </tr>\n",
       "    <tr>\n",
       "      <th>4</th>\n",
       "      <td>Movie</td>\n",
       "      <td>Zoe</td>\n",
       "      <td>2018</td>\n",
       "      <td>R</td>\n",
       "      <td>104 min</td>\n",
       "      <td>Science Fiction</td>\n",
       "      <td>ZOE tells a tale of forbidden love between an ...</td>\n",
       "      <td>Amazon Prime</td>\n",
       "      <td>Seattle, Washington</td>\n",
       "      <td>02/02/2005</td>\n",
       "    </tr>\n",
       "  </tbody>\n",
       "</table>\n",
       "</div>"
      ],
      "text/plain": [
       "      type                          title  release_year rating  duration  \\\n",
       "0    Movie           Take Care Good Night          2018    13+   110 min   \n",
       "1    Movie                       Zoombies          2016    13+    87 min   \n",
       "2  TV Show                     Zoo Babies          2008    ALL  1 Season   \n",
       "3  TV Show  Zoë Coombs Marr: Bossy Bottom          2020    18+  1 Season   \n",
       "4    Movie                            Zoe          2018      R   104 min   \n",
       "\n",
       "                       listed_in  \\\n",
       "0           Drama, International   \n",
       "1        Horror, Science Fiction   \n",
       "2         Kids, Special Interest   \n",
       "3  Comedy, Talk Show and Variety   \n",
       "4                Science Fiction   \n",
       "\n",
       "                                         description      platform  \\\n",
       "0  A Metro Family decides to fight a Cyber Crimin...  Amazon Prime   \n",
       "1  When a strange virus quickly spreads through a...  Amazon Prime   \n",
       "2  A heart warming and inspiring series that welc...  Amazon Prime   \n",
       "3  Zoë Coombs Marr has been on hiatus. Sort of. F...  Amazon Prime   \n",
       "4  ZOE tells a tale of forbidden love between an ...  Amazon Prime   \n",
       "\n",
       "          headquarters date_founded  \n",
       "0  Seattle, Washington   02/02/2005  \n",
       "1  Seattle, Washington   02/02/2005  \n",
       "2  Seattle, Washington   02/02/2005  \n",
       "3  Seattle, Washington   02/02/2005  \n",
       "4  Seattle, Washington   02/02/2005  "
      ]
     },
     "execution_count": 106,
     "metadata": {},
     "output_type": "execute_result"
    }
   ],
   "source": [
    "streaming_platforms_df = pd.concat([amazon_df,disney_df,netflix_df], ignore_index=True)\n",
    "\n",
    "streaming_platforms_df.head()"
   ]
  },
  {
   "cell_type": "code",
   "execution_count": 107,
   "metadata": {},
   "outputs": [
    {
     "data": {
      "text/plain": [
       "(19578, 10)"
      ]
     },
     "execution_count": 107,
     "metadata": {},
     "output_type": "execute_result"
    }
   ],
   "source": [
    "streaming_platforms_df.shape"
   ]
  },
  {
   "cell_type": "markdown",
   "metadata": {},
   "source": [
    "## 4.4 Renaming the Column"
   ]
  },
  {
   "cell_type": "code",
   "execution_count": 109,
   "metadata": {},
   "outputs": [],
   "source": [
    "streaming_platforms_df.rename(columns={'listed_in':'genre'}, inplace=True)"
   ]
  },
  {
   "cell_type": "markdown",
   "metadata": {},
   "source": [
    "## 4.5 Formatting the data types\n",
    "\n",
    "Convert the string data type of 'date_founded' to datetime."
   ]
  },
  {
   "cell_type": "code",
   "execution_count": 112,
   "metadata": {},
   "outputs": [
    {
     "name": "stdout",
     "output_type": "stream",
     "text": [
      "<class 'pandas.core.frame.DataFrame'>\n",
      "RangeIndex: 19578 entries, 0 to 19577\n",
      "Data columns (total 10 columns):\n",
      " #   Column        Non-Null Count  Dtype         \n",
      "---  ------        --------------  -----         \n",
      " 0   type          19578 non-null  object        \n",
      " 1   title         19578 non-null  object        \n",
      " 2   release_year  19578 non-null  int64         \n",
      " 3   rating        19578 non-null  object        \n",
      " 4   duration      19578 non-null  object        \n",
      " 5   genre         19578 non-null  object        \n",
      " 6   description   19578 non-null  object        \n",
      " 7   platform      19578 non-null  object        \n",
      " 8   headquarters  19578 non-null  object        \n",
      " 9   date_founded  19578 non-null  datetime64[ns]\n",
      "dtypes: datetime64[ns](1), int64(1), object(8)\n",
      "memory usage: 1.5+ MB\n"
     ]
    }
   ],
   "source": [
    "streaming_platforms_df['date_founded'] = pd.to_datetime(streaming_platforms_df['date_founded'])"
   ]
  },
  {
   "cell_type": "markdown",
   "metadata": {},
   "source": [
    "## 4.6 Replacing the column values\n",
    "\n",
    "The dataset contains several redundant rating categories. For example, rating category 16, AGES_16_, 16+ represent the same category 16+. For analysis purpose, we replace the rating category values to a unified value."
   ]
  },
  {
   "cell_type": "code",
   "execution_count": 117,
   "metadata": {},
   "outputs": [
    {
     "data": {
      "text/plain": [
       "rating\n",
       "TV-MA       3284\n",
       "TV-14       2447\n",
       "13+         2117\n",
       "R           1809\n",
       "16+         1550\n",
       "TV-PG       1333\n",
       "ALL         1269\n",
       "18+         1246\n",
       "PG-13        949\n",
       "PG           776\n",
       "TV-G         619\n",
       "TV-Y7        504\n",
       "NR           447\n",
       "TV-Y         431\n",
       "G            387\n",
       "7+           385\n",
       "TV-Y7-FV      19\n",
       "NC-17          6\n",
       "Name: count, dtype: int64"
      ]
     },
     "execution_count": 117,
     "metadata": {},
     "output_type": "execute_result"
    }
   ],
   "source": [
    "streaming_platforms_df['rating'].value_counts()"
   ]
  },
  {
   "cell_type": "code",
   "execution_count": 116,
   "metadata": {},
   "outputs": [],
   "source": [
    "streaming_platforms_df['rating'].replace(['16','AGES_16_'], '16+', inplace=True)\n",
    "streaming_platforms_df['rating'].replace(['AGES_18_'], '18+', inplace=True)\n",
    "streaming_platforms_df['rating'].replace(['ALL_AGES'], 'ALL', inplace=True)\n",
    "streaming_platforms_df['rating'].replace(['TV-NR','UNRATED','NOT_RATE','UR'], 'NR', inplace=True)"
   ]
  },
  {
   "cell_type": "code",
   "execution_count": 118,
   "metadata": {},
   "outputs": [
    {
     "data": {
      "text/html": [
       "<div>\n",
       "<style scoped>\n",
       "    .dataframe tbody tr th:only-of-type {\n",
       "        vertical-align: middle;\n",
       "    }\n",
       "\n",
       "    .dataframe tbody tr th {\n",
       "        vertical-align: top;\n",
       "    }\n",
       "\n",
       "    .dataframe thead th {\n",
       "        text-align: right;\n",
       "    }\n",
       "</style>\n",
       "<table border=\"1\" class=\"dataframe\">\n",
       "  <thead>\n",
       "    <tr style=\"text-align: right;\">\n",
       "      <th></th>\n",
       "      <th>type</th>\n",
       "      <th>title</th>\n",
       "      <th>release_year</th>\n",
       "      <th>rating</th>\n",
       "      <th>duration</th>\n",
       "      <th>genre</th>\n",
       "      <th>description</th>\n",
       "      <th>platform</th>\n",
       "      <th>headquarters</th>\n",
       "      <th>date_founded</th>\n",
       "    </tr>\n",
       "  </thead>\n",
       "  <tbody>\n",
       "    <tr>\n",
       "      <th>0</th>\n",
       "      <td>Movie</td>\n",
       "      <td>Take Care Good Night</td>\n",
       "      <td>2018</td>\n",
       "      <td>13+</td>\n",
       "      <td>110 min</td>\n",
       "      <td>Drama, International</td>\n",
       "      <td>A Metro Family decides to fight a Cyber Crimin...</td>\n",
       "      <td>Amazon Prime</td>\n",
       "      <td>Seattle, Washington</td>\n",
       "      <td>2005-02-02</td>\n",
       "    </tr>\n",
       "    <tr>\n",
       "      <th>1</th>\n",
       "      <td>Movie</td>\n",
       "      <td>Zoombies</td>\n",
       "      <td>2016</td>\n",
       "      <td>13+</td>\n",
       "      <td>87 min</td>\n",
       "      <td>Horror, Science Fiction</td>\n",
       "      <td>When a strange virus quickly spreads through a...</td>\n",
       "      <td>Amazon Prime</td>\n",
       "      <td>Seattle, Washington</td>\n",
       "      <td>2005-02-02</td>\n",
       "    </tr>\n",
       "    <tr>\n",
       "      <th>2</th>\n",
       "      <td>TV Show</td>\n",
       "      <td>Zoo Babies</td>\n",
       "      <td>2008</td>\n",
       "      <td>ALL</td>\n",
       "      <td>1 Season</td>\n",
       "      <td>Kids, Special Interest</td>\n",
       "      <td>A heart warming and inspiring series that welc...</td>\n",
       "      <td>Amazon Prime</td>\n",
       "      <td>Seattle, Washington</td>\n",
       "      <td>2005-02-02</td>\n",
       "    </tr>\n",
       "    <tr>\n",
       "      <th>3</th>\n",
       "      <td>TV Show</td>\n",
       "      <td>Zoë Coombs Marr: Bossy Bottom</td>\n",
       "      <td>2020</td>\n",
       "      <td>18+</td>\n",
       "      <td>1 Season</td>\n",
       "      <td>Comedy, Talk Show and Variety</td>\n",
       "      <td>Zoë Coombs Marr has been on hiatus. Sort of. F...</td>\n",
       "      <td>Amazon Prime</td>\n",
       "      <td>Seattle, Washington</td>\n",
       "      <td>2005-02-02</td>\n",
       "    </tr>\n",
       "    <tr>\n",
       "      <th>4</th>\n",
       "      <td>Movie</td>\n",
       "      <td>Zoe</td>\n",
       "      <td>2018</td>\n",
       "      <td>R</td>\n",
       "      <td>104 min</td>\n",
       "      <td>Science Fiction</td>\n",
       "      <td>ZOE tells a tale of forbidden love between an ...</td>\n",
       "      <td>Amazon Prime</td>\n",
       "      <td>Seattle, Washington</td>\n",
       "      <td>2005-02-02</td>\n",
       "    </tr>\n",
       "  </tbody>\n",
       "</table>\n",
       "</div>"
      ],
      "text/plain": [
       "      type                          title  release_year rating  duration  \\\n",
       "0    Movie           Take Care Good Night          2018    13+   110 min   \n",
       "1    Movie                       Zoombies          2016    13+    87 min   \n",
       "2  TV Show                     Zoo Babies          2008    ALL  1 Season   \n",
       "3  TV Show  Zoë Coombs Marr: Bossy Bottom          2020    18+  1 Season   \n",
       "4    Movie                            Zoe          2018      R   104 min   \n",
       "\n",
       "                           genre  \\\n",
       "0           Drama, International   \n",
       "1        Horror, Science Fiction   \n",
       "2         Kids, Special Interest   \n",
       "3  Comedy, Talk Show and Variety   \n",
       "4                Science Fiction   \n",
       "\n",
       "                                         description      platform  \\\n",
       "0  A Metro Family decides to fight a Cyber Crimin...  Amazon Prime   \n",
       "1  When a strange virus quickly spreads through a...  Amazon Prime   \n",
       "2  A heart warming and inspiring series that welc...  Amazon Prime   \n",
       "3  Zoë Coombs Marr has been on hiatus. Sort of. F...  Amazon Prime   \n",
       "4  ZOE tells a tale of forbidden love between an ...  Amazon Prime   \n",
       "\n",
       "          headquarters date_founded  \n",
       "0  Seattle, Washington   2005-02-02  \n",
       "1  Seattle, Washington   2005-02-02  \n",
       "2  Seattle, Washington   2005-02-02  \n",
       "3  Seattle, Washington   2005-02-02  \n",
       "4  Seattle, Washington   2005-02-02  "
      ]
     },
     "execution_count": 118,
     "metadata": {},
     "output_type": "execute_result"
    }
   ],
   "source": [
    "streaming_platforms_df.head()"
   ]
  },
  {
   "cell_type": "markdown",
   "metadata": {},
   "source": [
    "### 5. Data Loading"
   ]
  }
 ],
 "metadata": {
  "kernelspec": {
   "display_name": "Python 3",
   "language": "python",
   "name": "python3"
  },
  "language_info": {
   "codemirror_mode": {
    "name": "ipython",
    "version": 3
   },
   "file_extension": ".py",
   "mimetype": "text/x-python",
   "name": "python",
   "nbconvert_exporter": "python",
   "pygments_lexer": "ipython3",
   "version": "3.10.2"
  }
 },
 "nbformat": 4,
 "nbformat_minor": 2
}
